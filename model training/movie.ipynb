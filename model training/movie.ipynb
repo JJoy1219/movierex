{
 "cells": [
  {
   "cell_type": "code",
   "execution_count": 13,
   "metadata": {},
   "outputs": [
    {
     "name": "stdout",
     "output_type": "stream",
     "text": [
      "[<Movie id:0111161[http] title:_The Shawshank Redemption (1994)_>, <Movie id:5443390[http] title:_The Shawshank Redemption: Cast Interviews (2004) (V)_>, <Movie id:2477746[http] title:_The Shawshank Redemption (Scene) (2012)_>, <Movie id:5443386[http] title:_The Shawshank Redemption: Behind the Scenes (2004) (V)_>, <Movie id:0443041[http] title:_Hope Springs Eternal: A Look Back at 'the Shawshank Redemption' (2004) (V)_>, <Movie id:12126304[http] title:_The Shawshank Redemption (2019)_>, <Movie id:21915388[http] title:_The Shawshank Redemption (2022)_>, <Movie id:26356593[http] title:_The Shawshank Redemption (2019)_>, <Movie id:12286264[http] title:_The Shawshank Redemption (2020)_>, <Movie id:13783684[http] title:_The Shawshank Redemption (2021)_>, <Movie id:14308968[http] title:_The Shawshank Redemption (2011)_>, <Movie id:19829264[http] title:_The Shawshank Redemption (2021)_>, <Movie id:25974086[http] title:_The Shawshank Redemption (2019)_>, <Movie id:26915461[http] title:_The Shawshank Redemption (2023)_>, <Movie id:15032906[http] title:_The Shawshank Redemption (2020)_>, <Movie id:21385878[http] title:_The Shawshank Redemption (2022)_>, <Movie id:24970114[http] title:_The Shawshank Redemption (2018)_>, <Movie id:27153947[http] title:_The Shawshank Redemption (2021)_>, <Movie id:6681006[http] title:_The Shawshank Redemption (2015)_>, <Movie id:7308124[http] title:_The Shawshank Redemption (2017)_>]\n",
      "The Shawshank Redemption\n",
      "Chronicles the experiences of a formerly successful banker as a prisoner in the gloomy jailhouse of Shawshank after being found guilty of a crime he did not commit. The film portrays the man's unique way of dealing with his new, torturous life; along the way he befriends a number of fellow prisoners, most notably a wise long-term inmate named Red.\n"
     ]
    }
   ],
   "source": [
    "from imdb import IMDb\n",
    "\n",
    "\n",
    "ia = IMDb()\n",
    "movie_title = \"The Shawshank Redemption\"\n",
    "movies = ia.search_movie(movie_title)\n",
    "print(movies)\n",
    "if movies:\n",
    "    movie = movies[0]\n",
    "    ia.update(movie)\n",
    "    print(movie)\n",
    "    print(movie.data['plot outline'])\n"
   ]
  },
  {
   "cell_type": "code",
   "execution_count": 14,
   "metadata": {},
   "outputs": [
    {
     "name": "stdout",
     "output_type": "stream",
     "text": [
      "Title: The Shawshank Redemption\n",
      "Synopsis: Chronicles the experiences of a formerly successful banker as a prisoner in the gloomy jailhouse of Shawshank after being found guilty of a crime he did not commit. The film portrays the man's unique way of dealing with his new, torturous life; along the way he befriends a number of fellow prisoners, most notably a wise long-term inmate named Red.\n",
      "====================================================================================================\n",
      "Title: The Godfather\n",
      "Synopsis: The Godfather \"Don\" Vito Corleone is the head of the Corleone mafia family in New York. He is at the event of his daughter's wedding. Michael, Vito's youngest son and a decorated WW II Marine is also present at the wedding. Michael seems to be uninterested in being a part of the family business. Vito is a powerful man, and is kind to all those who give him respect but is ruthless against those who do not. But when a powerful and treacherous rival wants to sell drugs and needs the Don's influence for the same, Vito refuses to do it. What follows is a clash between Vito's fading old values and the new ways which may cause Michael to do the thing he was most reluctant in doing and wage a mob war against all the other mafia families which could tear the Corleone family apart.\n",
      "====================================================================================================\n",
      "Title: The Dark Knight\n",
      "Synopsis: Set within a year after the events of Batman Begins (2005), Batman, Lieutenant James Gordon, and new District Attorney Harvey Dent successfully begin to round up the criminals that plague Gotham City, until a mysterious and sadistic criminal mastermind known only as \"The Joker\" appears in Gotham, creating a new wave of chaos. Batman's struggle against The Joker becomes deeply personal, forcing him to \"confront everything he believes\" and improve his technology to stop him. A love triangle develops between Bruce Wayne, Dent, and Rachel Dawes.\n",
      "====================================================================================================\n",
      "Title: Pulp Fiction\n",
      "Synopsis: Jules Winnfield (Samuel L. Jackson) and Vincent Vega (John Travolta) are two hit men who are out to retrieve a suitcase stolen from their employer, mob boss Marsellus Wallace (Ving Rhames). Wallace has also asked Vincent to take his wife Mia (Uma Thurman) out a few days later when Wallace himself will be out of town. Butch Coolidge (Bruce Willis) is an aging boxer who is paid by Wallace to lose his fight. The lives of these seemingly unrelated people are woven together comprising of a series of funny, bizarre and uncalled-for incidents.\n",
      "====================================================================================================\n",
      "Title: Schindler's List\n",
      "Synopsis: Oskar Schindler is a vain and greedy German businessman who becomes an unlikely humanitarian amid the barbaric German Nazi reign when he feels compelled to turn his factory into a refuge for Jews. Based on the true story of Oskar Schindler who managed to save about 1100 Jews from being gassed at the Auschwitz concentration camp, it is a testament to the good in all of us.\n",
      "====================================================================================================\n",
      "Title: The Lord of the Rings: The Return of the King\n",
      "Synopsis: The final confrontation between the forces of good and evil fighting for control of the future of Middle-earth. Frodo and Sam reach Mordor in their quest to destroy the One Ring, while Aragorn leads the forces of good against Sauron's evil army at the stone city of Minas Tirith.\n",
      "====================================================================================================\n",
      "Title: Forrest Gump\n",
      "Synopsis: Forrest Gump is a simple man with a low I.Q. but good intentions. He is running through childhood with his best and only friend Jenny. His 'mama' teaches him the ways of life and leaves him to choose his destiny. Forrest joins the army for service in Vietnam, finding new friends called Dan and Bubba, he wins medals, creates a famous shrimp fishing fleet, inspires people to jog, starts a ping-pong craze, creates the smiley, writes bumper stickers and songs, donates to people and meets the president several times. However, this is all irrelevant to Forrest who can only think of his childhood sweetheart Jenny Curran, who has messed up her life. Although in the end all he wants to prove is that anyone can love anyone.\n",
      "====================================================================================================\n",
      "Title: Fight Club\n",
      "Synopsis: A nameless first person narrator (Edward Norton) attends support groups in attempt to subdue his emotional state and relieve his insomniac state. When he meets Marla (Helena Bonham Carter), another fake attendee of support groups, his life seems to become a little more bearable. However when he associates himself with Tyler (Brad Pitt) he is dragged into an underground fight club and soap making scheme. Together the two men spiral out of control and engage in competitive rivalry for love and power.\n",
      "====================================================================================================\n",
      "Title: Inception\n",
      "Synopsis: Dom Cobb is a skilled thief, the absolute best in the dangerous art of extraction, stealing valuable secrets from deep within the subconscious during the dream state, when the mind is at its most vulnerable. Cobb's rare ability has made him a coveted player in this treacherous new world of corporate espionage, but it has also made him an international fugitive and cost him everything he has ever loved. Now Cobb is being offered a chance at redemption. One last job could give him his life back but only if he can accomplish the impossible, inception. Instead of the perfect heist, Cobb and his team of specialists have to pull off the reverse: their task is not to steal an idea, but to plant one. If they succeed, it could be the perfect crime. But no amount of careful planning or expertise can prepare the team for the dangerous enemy that seems to predict their every move. An enemy that only Cobb could have seen coming.\n",
      "====================================================================================================\n",
      "Title: The Matrix\n",
      "Synopsis: Thomas A. Anderson is a man living two lives. By day he is an average computer programmer and by night a hacker known as Neo. Neo has always questioned his reality, but the truth is far beyond his imagination. Neo finds himself targeted by the police when he is contacted by Morpheus, a legendary computer hacker branded a terrorist by the government. As a rebel against the machines, Neo must confront the agents: super-powerful computer programs devoted to stopping Neo and the entire human rebellion.\n",
      "====================================================================================================\n"
     ]
    }
   ],
   "source": [
    "import requests\n",
    "\n",
    "API_KEY = 'd6d53aa1'\n",
    "\n",
    "movie_titles = [\n",
    "    \"The Shawshank Redemption\",\n",
    "    \"The Godfather\",\n",
    "    \"The Dark Knight\",\n",
    "    \"Pulp Fiction\",\n",
    "    \"Schindler's List\",\n",
    "    \"The Lord of the Rings: The Return of the King\",\n",
    "    \"Forrest Gump\",\n",
    "    \"Fight Club\",\n",
    "    \"Inception\",\n",
    "    \"The Matrix\"\n",
    "]\n",
    "\n",
    "movie_data_list = []\n",
    "\n",
    "\n",
    "for movie_title in movie_titles:\n",
    "    \n",
    "    search_endpoint = f\"http://www.omdbapi.com/\"\n",
    "\n",
    "    \n",
    "    params = {\n",
    "        \"apikey\": API_KEY,\n",
    "        \"t\": movie_title,\n",
    "        \"plot\": \"full\"\n",
    "    }\n",
    "\n",
    "    \n",
    "    response = requests.get(search_endpoint, params=params)\n",
    "\n",
    "    if response.status_code == 200:\n",
    "        movie_data = response.json()\n",
    "\n",
    "        \n",
    "        if movie_data.get(\"Response\") == \"True\":\n",
    "            title = movie_data.get(\"Title\", \"Title not found\")\n",
    "            synopsis = movie_data.get(\"Plot\", \"Synopsis not available\")\n",
    "\n",
    "            movie_data_list.append({\n",
    "                \"Title\": title,\n",
    "                \"Synopsis\": synopsis\n",
    "            })\n",
    "        else:\n",
    "            print(f\"No results found for '{movie_title}'\")\n",
    "    else:\n",
    "        print(f\"Failed to retrieve data for '{movie_title}'\")\n",
    "\n",
    "\n",
    "for movie_data in movie_data_list:\n",
    "    print(f\"Title: {movie_data['Title']}\")\n",
    "    print(f\"Synopsis: {movie_data['Synopsis']}\")\n",
    "    print(\"=\" * 100)\n",
    "\n",
    "\n",
    "\n",
    "\n",
    "\n"
   ]
  }
 ],
 "metadata": {
  "kernelspec": {
   "display_name": "Python 3",
   "language": "python",
   "name": "python3"
  },
  "language_info": {
   "codemirror_mode": {
    "name": "ipython",
    "version": 3
   },
   "file_extension": ".py",
   "mimetype": "text/x-python",
   "name": "python",
   "nbconvert_exporter": "python",
   "pygments_lexer": "ipython3",
   "version": "3.10.11"
  },
  "orig_nbformat": 4
 },
 "nbformat": 4,
 "nbformat_minor": 2
}
