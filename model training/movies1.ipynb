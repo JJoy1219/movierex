{
 "cells": [
  {
   "cell_type": "code",
   "execution_count": 5,
   "metadata": {},
   "outputs": [
    {
     "data": {
      "text/html": [
       "<div>\n",
       "<style scoped>\n",
       "    .dataframe tbody tr th:only-of-type {\n",
       "        vertical-align: middle;\n",
       "    }\n",
       "\n",
       "    .dataframe tbody tr th {\n",
       "        vertical-align: top;\n",
       "    }\n",
       "\n",
       "    .dataframe thead th {\n",
       "        text-align: right;\n",
       "    }\n",
       "</style>\n",
       "<table border=\"1\" class=\"dataframe\">\n",
       "  <thead>\n",
       "    <tr style=\"text-align: right;\">\n",
       "      <th></th>\n",
       "      <th>Release Year</th>\n",
       "      <th>Title</th>\n",
       "      <th>Origin/Ethnicity</th>\n",
       "      <th>Director</th>\n",
       "      <th>Cast</th>\n",
       "      <th>Genre</th>\n",
       "      <th>Wiki Page</th>\n",
       "      <th>Plot</th>\n",
       "    </tr>\n",
       "  </thead>\n",
       "  <tbody>\n",
       "    <tr>\n",
       "      <th>0</th>\n",
       "      <td>1901</td>\n",
       "      <td>Kansas Saloon Smashers</td>\n",
       "      <td>American</td>\n",
       "      <td>Unknown</td>\n",
       "      <td>NaN</td>\n",
       "      <td>unknown</td>\n",
       "      <td>https://en.wikipedia.org/wiki/Kansas_Saloon_Sm...</td>\n",
       "      <td>A bartender is working at a saloon, serving dr...</td>\n",
       "    </tr>\n",
       "    <tr>\n",
       "      <th>1</th>\n",
       "      <td>1901</td>\n",
       "      <td>Love by the Light of the Moon</td>\n",
       "      <td>American</td>\n",
       "      <td>Unknown</td>\n",
       "      <td>NaN</td>\n",
       "      <td>unknown</td>\n",
       "      <td>https://en.wikipedia.org/wiki/Love_by_the_Ligh...</td>\n",
       "      <td>The moon, painted with a smiling face hangs ov...</td>\n",
       "    </tr>\n",
       "    <tr>\n",
       "      <th>2</th>\n",
       "      <td>1901</td>\n",
       "      <td>The Martyred Presidents</td>\n",
       "      <td>American</td>\n",
       "      <td>Unknown</td>\n",
       "      <td>NaN</td>\n",
       "      <td>unknown</td>\n",
       "      <td>https://en.wikipedia.org/wiki/The_Martyred_Pre...</td>\n",
       "      <td>The film, just over a minute long, is composed...</td>\n",
       "    </tr>\n",
       "    <tr>\n",
       "      <th>3</th>\n",
       "      <td>1901</td>\n",
       "      <td>Terrible Teddy, the Grizzly King</td>\n",
       "      <td>American</td>\n",
       "      <td>Unknown</td>\n",
       "      <td>NaN</td>\n",
       "      <td>unknown</td>\n",
       "      <td>https://en.wikipedia.org/wiki/Terrible_Teddy,_...</td>\n",
       "      <td>Lasting just 61 seconds and consisting of two ...</td>\n",
       "    </tr>\n",
       "    <tr>\n",
       "      <th>4</th>\n",
       "      <td>1902</td>\n",
       "      <td>Jack and the Beanstalk</td>\n",
       "      <td>American</td>\n",
       "      <td>George S. Fleming, Edwin S. Porter</td>\n",
       "      <td>NaN</td>\n",
       "      <td>unknown</td>\n",
       "      <td>https://en.wikipedia.org/wiki/Jack_and_the_Bea...</td>\n",
       "      <td>The earliest known adaptation of the classic f...</td>\n",
       "    </tr>\n",
       "  </tbody>\n",
       "</table>\n",
       "</div>"
      ],
      "text/plain": [
       "   Release Year                             Title Origin/Ethnicity  \\\n",
       "0          1901            Kansas Saloon Smashers         American   \n",
       "1          1901     Love by the Light of the Moon         American   \n",
       "2          1901           The Martyred Presidents         American   \n",
       "3          1901  Terrible Teddy, the Grizzly King         American   \n",
       "4          1902            Jack and the Beanstalk         American   \n",
       "\n",
       "                             Director Cast    Genre  \\\n",
       "0                             Unknown  NaN  unknown   \n",
       "1                             Unknown  NaN  unknown   \n",
       "2                             Unknown  NaN  unknown   \n",
       "3                             Unknown  NaN  unknown   \n",
       "4  George S. Fleming, Edwin S. Porter  NaN  unknown   \n",
       "\n",
       "                                           Wiki Page  \\\n",
       "0  https://en.wikipedia.org/wiki/Kansas_Saloon_Sm...   \n",
       "1  https://en.wikipedia.org/wiki/Love_by_the_Ligh...   \n",
       "2  https://en.wikipedia.org/wiki/The_Martyred_Pre...   \n",
       "3  https://en.wikipedia.org/wiki/Terrible_Teddy,_...   \n",
       "4  https://en.wikipedia.org/wiki/Jack_and_the_Bea...   \n",
       "\n",
       "                                                Plot  \n",
       "0  A bartender is working at a saloon, serving dr...  \n",
       "1  The moon, painted with a smiling face hangs ov...  \n",
       "2  The film, just over a minute long, is composed...  \n",
       "3  Lasting just 61 seconds and consisting of two ...  \n",
       "4  The earliest known adaptation of the classic f...  "
      ]
     },
     "execution_count": 5,
     "metadata": {},
     "output_type": "execute_result"
    }
   ],
   "source": [
    "import numpy as np\n",
    "import pandas as pd\n",
    "import os.path\n",
    "\n",
    "data = pd.read_csv('c:/Users/joelj/OneDrive/Documents/classes/Independent Study/movie_data.csv', encoding='utf-8')\n",
    "data.head()\n"
   ]
  },
  {
   "cell_type": "code",
   "execution_count": 3,
   "metadata": {},
   "outputs": [
    {
     "name": "stdout",
     "output_type": "stream",
     "text": [
      "34886\n",
      "['American' 'Assamese' 'Australian' 'Bangladeshi' 'Bengali' 'Bollywood'\n",
      " 'British' 'Canadian' 'Chinese' 'Egyptian' 'Filipino' 'Hong Kong'\n",
      " 'Japanese' 'Kannada' 'Malayalam' 'Malaysian' 'Maldivian' 'Marathi'\n",
      " 'Punjabi' 'Russian' 'South_Korean' 'Tamil' 'Telugu' 'Turkish']\n",
      "17377\n",
      "3670\n"
     ]
    }
   ],
   "source": [
    "print(len(data))\n",
    "\n",
    "import numpy as np\n",
    "print(np.unique(data['Origin/Ethnicity']))\n",
    "\n",
    "print(len(data.loc[data['Origin/Ethnicity']=='American']))\n",
    "print(len(data.loc[data['Origin/Ethnicity']=='British']))\n"
   ]
  },
  {
   "cell_type": "code",
   "execution_count": 6,
   "metadata": {},
   "outputs": [
    {
     "data": {
      "text/plain": [
       "\"A bartender is working at a saloon, serving drinks to customers. After he fills a stereotypically Irish man's bucket with beer, Carrie Nation and her followers burst inside. They assault the Irish man, pulling his hat over his eyes and then dumping the beer over his head. The group then begin wrecking the bar, smashing the fixtures, mirrors, and breaking the cash register. The bartender then sprays seltzer water in Nation's face before a group of policemen appear and order everybody to leave.[1]\""
      ]
     },
     "execution_count": 6,
     "metadata": {},
     "output_type": "execute_result"
    }
   ],
   "source": [
    "df1 = pd.DataFrame(data.loc[data['Origin/Ethnicity']=='American'])\n",
    "df2 = pd.DataFrame(data.loc[data['Origin/Ethnicity']=='British'])\n",
    "data = pd.concat([df1, df2], ignore_index = True)\n",
    "\n",
    "len(data)\n",
    "\n",
    "finaldata = data[[\"Release Year\",\"Title\", \"Plot\"]]\t\n",
    "finaldata = finaldata.set_index('Title') \n",
    "\n",
    "finaldata.head(10)\n",
    "finaldata[\"Plot\"][0]\n"
   ]
  },
  {
   "cell_type": "code",
   "execution_count": 7,
   "metadata": {},
   "outputs": [
    {
     "name": "stderr",
     "output_type": "stream",
     "text": [
      "[nltk_data] Downloading package punkt to\n",
      "[nltk_data]     C:\\Users\\joelj\\AppData\\Roaming\\nltk_data...\n",
      "[nltk_data]   Package punkt is already up-to-date!\n",
      "[nltk_data] Downloading package averaged_perceptron_tagger to\n",
      "[nltk_data]     C:\\Users\\joelj\\AppData\\Roaming\\nltk_data...\n",
      "[nltk_data]   Package averaged_perceptron_tagger is already up-to-\n",
      "[nltk_data]       date!\n",
      "[nltk_data] Downloading package wordnet to\n",
      "[nltk_data]     C:\\Users\\joelj\\AppData\\Roaming\\nltk_data...\n",
      "[nltk_data]   Package wordnet is already up-to-date!\n",
      "[nltk_data] Downloading package stopwords to\n",
      "[nltk_data]     C:\\Users\\joelj\\AppData\\Roaming\\nltk_data...\n",
      "[nltk_data]   Package stopwords is already up-to-date!\n"
     ]
    }
   ],
   "source": [
    "import nltk\n",
    "nltk.download('punkt')\n",
    "nltk.download('averaged_perceptron_tagger')\n",
    "nltk.download('wordnet')\n",
    "\n",
    "\n",
    "from nltk.stem import WordNetLemmatizer\n",
    "lemmatizer = WordNetLemmatizer()\n",
    "\n",
    "from nltk.corpus import stopwords\n",
    "nltk.download('stopwords')\n",
    "stop_words = set(stopwords.words('english'))\n",
    "\n",
    "VERB_CODES = {'VB', 'VBD', 'VBG', 'VBN', 'VBP', 'VBZ'}\n"
   ]
  },
  {
   "cell_type": "code",
   "execution_count": 8,
   "metadata": {},
   "outputs": [
    {
     "data": {
      "text/html": [
       "<div>\n",
       "<style scoped>\n",
       "    .dataframe tbody tr th:only-of-type {\n",
       "        vertical-align: middle;\n",
       "    }\n",
       "\n",
       "    .dataframe tbody tr th {\n",
       "        vertical-align: top;\n",
       "    }\n",
       "\n",
       "    .dataframe thead th {\n",
       "        text-align: right;\n",
       "    }\n",
       "</style>\n",
       "<table border=\"1\" class=\"dataframe\">\n",
       "  <thead>\n",
       "    <tr style=\"text-align: right;\">\n",
       "      <th></th>\n",
       "      <th>Release Year</th>\n",
       "      <th>Plot</th>\n",
       "      <th>plot_processed</th>\n",
       "    </tr>\n",
       "    <tr>\n",
       "      <th>Title</th>\n",
       "      <th></th>\n",
       "      <th></th>\n",
       "      <th></th>\n",
       "    </tr>\n",
       "  </thead>\n",
       "  <tbody>\n",
       "    <tr>\n",
       "      <th>Kansas Saloon Smashers</th>\n",
       "      <td>1901</td>\n",
       "      <td>A bartender is working at a saloon, serving dr...</td>\n",
       "      <td>bartender work saloon serve drink customer fil...</td>\n",
       "    </tr>\n",
       "    <tr>\n",
       "      <th>Love by the Light of the Moon</th>\n",
       "      <td>1901</td>\n",
       "      <td>The moon, painted with a smiling face hangs ov...</td>\n",
       "      <td>moon paint smile face hang park night young co...</td>\n",
       "    </tr>\n",
       "    <tr>\n",
       "      <th>The Martyred Presidents</th>\n",
       "      <td>1901</td>\n",
       "      <td>The film, just over a minute long, is composed...</td>\n",
       "      <td>film minute long compose two shot first girl s...</td>\n",
       "    </tr>\n",
       "    <tr>\n",
       "      <th>Terrible Teddy, the Grizzly King</th>\n",
       "      <td>1901</td>\n",
       "      <td>Lasting just 61 seconds and consisting of two ...</td>\n",
       "      <td>last second consist two shot first shot set wo...</td>\n",
       "    </tr>\n",
       "    <tr>\n",
       "      <th>Jack and the Beanstalk</th>\n",
       "      <td>1902</td>\n",
       "      <td>The earliest known adaptation of the classic f...</td>\n",
       "      <td>earliest known adaptation classic fairytale fi...</td>\n",
       "    </tr>\n",
       "  </tbody>\n",
       "</table>\n",
       "</div>"
      ],
      "text/plain": [
       "                                  Release Year  \\\n",
       "Title                                            \n",
       "Kansas Saloon Smashers                    1901   \n",
       "Love by the Light of the Moon             1901   \n",
       "The Martyred Presidents                   1901   \n",
       "Terrible Teddy, the Grizzly King          1901   \n",
       "Jack and the Beanstalk                    1902   \n",
       "\n",
       "                                                                               Plot  \\\n",
       "Title                                                                                 \n",
       "Kansas Saloon Smashers            A bartender is working at a saloon, serving dr...   \n",
       "Love by the Light of the Moon     The moon, painted with a smiling face hangs ov...   \n",
       "The Martyred Presidents           The film, just over a minute long, is composed...   \n",
       "Terrible Teddy, the Grizzly King  Lasting just 61 seconds and consisting of two ...   \n",
       "Jack and the Beanstalk            The earliest known adaptation of the classic f...   \n",
       "\n",
       "                                                                     plot_processed  \n",
       "Title                                                                                \n",
       "Kansas Saloon Smashers            bartender work saloon serve drink customer fil...  \n",
       "Love by the Light of the Moon     moon paint smile face hang park night young co...  \n",
       "The Martyred Presidents           film minute long compose two shot first girl s...  \n",
       "Terrible Teddy, the Grizzly King  last second consist two shot first shot set wo...  \n",
       "Jack and the Beanstalk            earliest known adaptation classic fairytale fi...  "
      ]
     },
     "execution_count": 8,
     "metadata": {},
     "output_type": "execute_result"
    }
   ],
   "source": [
    "def preprocess_sentences(text):\n",
    "    text = text.lower()\n",
    "    temp_sent =[]\n",
    "    words = nltk.word_tokenize(text)\n",
    "    tags = nltk.pos_tag(words)\n",
    "    for i, word in enumerate(words):\n",
    "        if tags[i][1] in VERB_CODES:\n",
    "            lemmatized = lemmatizer.lemmatize(word, 'v')\n",
    "        else:\n",
    "            lemmatized = lemmatizer.lemmatize(word)\n",
    "        if lemmatized not in stop_words and lemmatized.isalpha():\n",
    "            temp_sent.append(lemmatized)\n",
    "            \n",
    "    finalsent = ' '.join(temp_sent)\n",
    "    finalsent = finalsent.replace(\"n't\", \" not\")\n",
    "    finalsent = finalsent.replace(\"'m\", \" am\")\n",
    "    finalsent = finalsent.replace(\"'s\", \" is\")\n",
    "    finalsent = finalsent.replace(\"'re\", \" are\")\n",
    "    finalsent = finalsent.replace(\"'ll\", \" will\")\n",
    "    finalsent = finalsent.replace(\"'ve\", \" have\")\n",
    "    finalsent = finalsent.replace(\"'d\", \" would\")\n",
    "    return finalsent\n",
    "\n",
    "finaldata[\"plot_processed\"]= finaldata[\"Plot\"].apply(preprocess_sentences)\n",
    "finaldata.to_csv(\"processed_data.csv\")\n",
    "finaldata.head()\n"
   ]
  },
  {
   "cell_type": "code",
   "execution_count": 1,
   "metadata": {},
   "outputs": [
    {
     "data": {
      "text/html": [
       "<div>\n",
       "<style scoped>\n",
       "    .dataframe tbody tr th:only-of-type {\n",
       "        vertical-align: middle;\n",
       "    }\n",
       "\n",
       "    .dataframe tbody tr th {\n",
       "        vertical-align: top;\n",
       "    }\n",
       "\n",
       "    .dataframe thead th {\n",
       "        text-align: right;\n",
       "    }\n",
       "</style>\n",
       "<table border=\"1\" class=\"dataframe\">\n",
       "  <thead>\n",
       "    <tr style=\"text-align: right;\">\n",
       "      <th></th>\n",
       "      <th>Title</th>\n",
       "      <th>Release Year</th>\n",
       "      <th>Plot</th>\n",
       "      <th>plot_processed</th>\n",
       "    </tr>\n",
       "  </thead>\n",
       "  <tbody>\n",
       "    <tr>\n",
       "      <th>0</th>\n",
       "      <td>Kansas Saloon Smashers</td>\n",
       "      <td>1901</td>\n",
       "      <td>A bartender is working at a saloon, serving dr...</td>\n",
       "      <td>bartender work saloon serve drink customer fil...</td>\n",
       "    </tr>\n",
       "    <tr>\n",
       "      <th>1</th>\n",
       "      <td>Love by the Light of the Moon</td>\n",
       "      <td>1901</td>\n",
       "      <td>The moon, painted with a smiling face hangs ov...</td>\n",
       "      <td>moon paint smile face hang park night young co...</td>\n",
       "    </tr>\n",
       "    <tr>\n",
       "      <th>2</th>\n",
       "      <td>The Martyred Presidents</td>\n",
       "      <td>1901</td>\n",
       "      <td>The film, just over a minute long, is composed...</td>\n",
       "      <td>film minute long compose two shot first girl s...</td>\n",
       "    </tr>\n",
       "    <tr>\n",
       "      <th>3</th>\n",
       "      <td>Terrible Teddy, the Grizzly King</td>\n",
       "      <td>1901</td>\n",
       "      <td>Lasting just 61 seconds and consisting of two ...</td>\n",
       "      <td>last second consist two shot first shot set wo...</td>\n",
       "    </tr>\n",
       "    <tr>\n",
       "      <th>4</th>\n",
       "      <td>Jack and the Beanstalk</td>\n",
       "      <td>1902</td>\n",
       "      <td>The earliest known adaptation of the classic f...</td>\n",
       "      <td>earliest known adaptation classic fairytale fi...</td>\n",
       "    </tr>\n",
       "  </tbody>\n",
       "</table>\n",
       "</div>"
      ],
      "text/plain": [
       "                              Title  Release Year  \\\n",
       "0            Kansas Saloon Smashers          1901   \n",
       "1     Love by the Light of the Moon          1901   \n",
       "2           The Martyred Presidents          1901   \n",
       "3  Terrible Teddy, the Grizzly King          1901   \n",
       "4            Jack and the Beanstalk          1902   \n",
       "\n",
       "                                                Plot  \\\n",
       "0  A bartender is working at a saloon, serving dr...   \n",
       "1  The moon, painted with a smiling face hangs ov...   \n",
       "2  The film, just over a minute long, is composed...   \n",
       "3  Lasting just 61 seconds and consisting of two ...   \n",
       "4  The earliest known adaptation of the classic f...   \n",
       "\n",
       "                                      plot_processed  \n",
       "0  bartender work saloon serve drink customer fil...  \n",
       "1  moon paint smile face hang park night young co...  \n",
       "2  film minute long compose two shot first girl s...  \n",
       "3  last second consist two shot first shot set wo...  \n",
       "4  earliest known adaptation classic fairytale fi...  "
      ]
     },
     "execution_count": 1,
     "metadata": {},
     "output_type": "execute_result"
    }
   ],
   "source": [
    "import numpy as np\n",
    "import pandas as pd\n",
    "import os.path\n",
    "\n",
    "finaldata = pd.read_csv('c:/Users/joelj/OneDrive/Documents/classes/Independent Study/processed_data.csv', encoding='utf-8')\n",
    "finaldata.head()"
   ]
  },
  {
   "cell_type": "code",
   "execution_count": 2,
   "metadata": {},
   "outputs": [
    {
     "data": {
      "text/plain": [
       "(21047, 21047)"
      ]
     },
     "execution_count": 2,
     "metadata": {},
     "output_type": "execute_result"
    }
   ],
   "source": [
    "from sklearn.feature_extraction.text import TfidfVectorizer\n",
    "from scipy.sparse import csr_matrix\n",
    "\n",
    "tfidfvec = TfidfVectorizer()\n",
    "tfidf_movieid = tfidfvec.fit_transform((finaldata[\"plot_processed\"]))\n",
    "\n",
    "sparse_matrix = csr_matrix(tfidf_movieid)\n",
    "from sklearn.metrics.pairwise import cosine_similarity\n",
    "cos_sim = cosine_similarity(sparse_matrix, sparse_matrix)\n",
    "cos_sim.shape\n"
   ]
  },
  {
   "cell_type": "code",
   "execution_count": 3,
   "metadata": {},
   "outputs": [],
   "source": [
    "release_year = finaldata['Release Year'].to_numpy()\n",
    "year_matrix = np.abs(np.subtract.outer(release_year, release_year))"
   ]
  },
  {
   "cell_type": "code",
   "execution_count": 13,
   "metadata": {},
   "outputs": [],
   "source": [
    "alpha = 0.1\n",
    "year_weights = np.exp(-alpha * year_matrix)"
   ]
  },
  {
   "cell_type": "code",
   "execution_count": 14,
   "metadata": {},
   "outputs": [],
   "source": [
    "weighted_similarities = cos_sim * year_weights\n"
   ]
  },
  {
   "cell_type": "code",
   "execution_count": 15,
   "metadata": {},
   "outputs": [],
   "source": [
    "\n",
    "def recommendations(title, cosine_sim = weighted_similarities):\n",
    "\trecommended_movies = []\n",
    "\tindex = finaldata.loc[finaldata[\"Title\"] == title].index[0]\n",
    "\tsimilarity_scores = pd.Series(cosine_sim[index]).sort_values(ascending = False)\n",
    "\ttop_10_movies = list(similarity_scores.iloc[1:11].index)\n",
    "\tfor i in top_10_movies:\n",
    "\t\trecommended_movies.append(list(finaldata[\"Title\"])[i])\n",
    "\treturn recommended_movies\n"
   ]
  },
  {
   "cell_type": "code",
   "execution_count": 56,
   "metadata": {},
   "outputs": [
    {
     "data": {
      "text/plain": [
       "['Raising Helen',\n",
       " 'Stuck on You',\n",
       " 'Lost in Translation',\n",
       " 'Berdella[2]',\n",
       " 'RV',\n",
       " 'The Big Kahuna',\n",
       " 'The Edge',\n",
       " 'The Spy Next Door',\n",
       " 'Return to Me',\n",
       " ' Yours, Mine and Ours']"
      ]
     },
     "execution_count": 56,
     "metadata": {},
     "output_type": "execute_result"
    }
   ],
   "source": [
    "recommendations(\"The Incredibles\")"
   ]
  },
  {
   "cell_type": "code",
   "execution_count": 32,
   "metadata": {},
   "outputs": [],
   "source": [
    "movies_test = [\"Interstellar\", \"Good Will Hunting\", \"The Shawshank Redemption\", \"The Dark Knight\", \"Kung Fu Panda\", \"Avatar\", \"Titanic\",\n",
    "               \"Bruce Almighty\", \"Pulp Fiction\", \"The Exorcist\", \"Finding Nemo\", \"Zoolander\", \"The Notebook\", \"Love Actually\",\n",
    "               \"Alien\", \"Harry Potter and the Sorcerer's Stone\", \"Die Hard\", \"The Matrix\", \"Iron Man\"]"
   ]
  },
  {
   "cell_type": "code",
   "execution_count": 33,
   "metadata": {},
   "outputs": [
    {
     "name": "stdout",
     "output_type": "stream",
     "text": [
      "Interstellar : ['Interstellar', 'Hot Pursuit', 'Snitch', 'RoboCop', 'Red', 'Red State', 'Pixels', 'Fantastic Four', 'Home Sweet Hell', 'Cold Creek Manor']\n",
      "Good Will Hunting : ['The Fluffer', 'The Rules of Attraction', 'Mr. Nanny', 'Late Night Shopping', 'Birth', 'The Matchmaker', 'The MatchMaker', 'Alaska', 'The Wash', 'The Comebacks']\n",
      "The Shawshank Redemption : ['Malice', 'An American Werewolf in Paris', 'Brassed Off', \"Child's Play 2\", 'For Love or Money', 'Toy Story', ' The 40-Year-Old Virgin', 'Kiss the Sky', \"Child's Play 3\", \"Before the Devil Knows You're Dead\"]\n",
      "The Dark Knight : [' The Dark Knight', 'Dark Knight Rises, TheThe Dark Knight Rises', 'The Dark Knight Rises', 'Batman Begins', 'The Lego Batman Movie', 'Justice League: The Flashpoint Paradox', 'Georgia Rule', 'Half Light', 'Batman: Mask of the Phantasm', 'The Uninvited']\n",
      "Kung Fu Panda : ['Kung Fu Panda 2', 'Kung Fu Panda 3', 'The Shaggy Dog', 'Romeo Must Die', 'Kickboxer 4', 'How to Train Your Dragon', 'Disaster Movie', ' Digimon: The Movie', 'Adventures of Johnny Tao', 'Reign of Fire']\n",
      "Avatar : [' Never Back Down', \"It's Complicated\", 'The Guardian', 'My Sexiest Year', \"Love N' Dancing\", 'Revolver', 'Cowboys & Aliens', 'Must Love Dogs', 'Just My Luck', 'The Rendlesham UFO Incident']\n",
      "Titanic : ['Trouble in Store', 'A Night to Remember', 'A Star Is Born', 'Richard III', 'Million Dollar Mermaid', 'Strange Lady in Town', 'Reunion in Reno', 'One Good Turn', 'Julia Misbehaves', 'Calling Homicide']\n",
      "Bruce Almighty : ['Hulk', 'Batman Begins', 'Dragon: The Bruce Lee Story', 'Brother to Brother', 'Hotel for Dogs', 'Cemetery Junction', 'The Others', 'Indigo', 'Batman Forever', 'Evan Almighty']\n",
      "Pulp Fiction : ['A Perfect World', 'Gattaca', 'The Deep End of the Ocean', 'Intersection', 'Twins', 'Vincent & Theo', 'The Godfather Part III', 'City by the Sea', 'Avalon', 'Ronin']\n",
      "The Exorcist : ['Exorcist II: The Heretic', 'Sweeney!', \"There's Always Vanilla\", 'Sweeney 2', 'The Magnificent Seven Ride', 'Lipstick', 'Super Fly', 'The Exorcist III', 'Hysteria', 'Fright']\n",
      "Finding Nemo : ['Finding Nemo 3D', '50 First Dates', 'Finding Dory', 'Crayola Kids Adventures', 'Boiler Room', 'The League of Extraordinary Gentlemen', 'Things We Lost in the Fire', 'Bruce Almighty', 'The Eye', 'Open Water']\n",
      "Zoolander : ['American History X', 'Save the Last Dance', 'Big Bad Wolf', 'Darkness Falls', 'Bully', 'Blow', 'Zoolander 2', 'Tooth Fairy', 'Obsessed', 'The Swan Princess']\n",
      "The Notebook : ['The Sitter', \"I'll Be Home For Christmas\", 'Dangerous Parking', 'Appaloosa', 'Single White Female', 'The Last Mimzy', 'Noah', 'The Boy Next Door', 'The Ring', 'The Boondock Saints II: All Saints Day']\n",
      "Love Actually : ['The Princess Diaries 2: Royal Engagement', 'Garden State', 'Noel', 'Agent Cody Banks', 'Parting Shots', 'The Princess Diaries', 'Romeo & Juliet: Sealed with a Kiss', 'Surviving Christmas', 'Magicians', 'Urban Legend']\n",
      "Alien : ['Aliens', 'Hangar 18', 'The Evil Dead', 'Galaxina', 'The Ninth Configuration', 'Time Walker', 'Strange Invaders', 'Alien 3', 'Star Trek: The Motion Picture', 'An Eye for an Eye']\n",
      "Harry Potter and the Sorcerer's Stone : [\"Harry Potter and the Sorcerer's Stone\", 'Harry Potter and the Chamber of Secrets', 'Parting Shots', ' The Tailor of Panama', 'Harry Potter and the Goblet of Fire', 'Deconstructing Harry', 'Harry Potter and the Order of the Phoenix', 'Harry Potter and the Prisoner of Azkaban', 'Twilight', 'Six Ways to Sunday']\n",
      "Die Hard : ['Die Hard 2', 'Die Hard with a Vengeance', 'Just Between Friends', 'Live Free or Die Hard', 'Hannah and Her Sisters', 'Crawlspace', 'Boys on the Side', 'Ordeal by Innocence', 'Eddie and the Cruisers II: Eddie Lives!', 'Strategic Command']\n",
      "The Matrix : ['The Matrix Reloaded', 'The Matrix Revolutions', 'Commando', 'Black Dog', 'Transformers: Revenge of the Fallen', 'The Thirteenth Floor', 'Lost In Space', 'Bicentennial Man', 'Virus', 'Supernova']\n",
      "Iron Man : ['The Dawn Rider', 'Scarlet Pages', 'The Doorway to Hell', \"The Devil's Playground\", 'King of the Turf', 'Army Surgeon', 'Hotel Splendide', 'Laughing at Life', 'Dumbbells in Ermine', 'The Avenger']\n"
     ]
    }
   ],
   "source": [
    "for i in movies_test:\n",
    "    print(i,\":\", recommendations(i))"
   ]
  }
 ],
 "metadata": {
  "kernelspec": {
   "display_name": "Python 3",
   "language": "python",
   "name": "python3"
  },
  "language_info": {
   "codemirror_mode": {
    "name": "ipython",
    "version": 3
   },
   "file_extension": ".py",
   "mimetype": "text/x-python",
   "name": "python",
   "nbconvert_exporter": "python",
   "pygments_lexer": "ipython3",
   "version": "3.10.11"
  },
  "orig_nbformat": 4
 },
 "nbformat": 4,
 "nbformat_minor": 2
}
